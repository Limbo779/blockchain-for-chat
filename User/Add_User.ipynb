{
 "cells": [
  {
   "cell_type": "code",
   "execution_count": null,
   "id": "b8c0d049",
   "metadata": {},
   "outputs": [],
   "source": [
    "import rsa\n",
    "import json"
   ]
  },
  {
   "cell_type": "code",
   "execution_count": null,
   "id": "a3cc2f88",
   "metadata": {},
   "outputs": [],
   "source": [
    "data={\n",
    "    \"A\":123,\n",
    "    \"B\":258,\n",
    "    \"C\":789\n",
    "}\n",
    "\n",
    "with open('Userlog.json','w') as f :\n",
    "    json.dump(data,f)"
   ]
  },
  {
   "cell_type": "code",
   "execution_count": null,
   "id": "ccd5bd23",
   "metadata": {},
   "outputs": [],
   "source": [
    "with open(\"Userlog.json\",'r') as f :\n",
    "    Userlog=json.load(f)"
   ]
  },
  {
   "cell_type": "code",
   "execution_count": null,
   "id": "e3612f54",
   "metadata": {},
   "outputs": [],
   "source": [
    "handle=input(\"Enter the username you want : \")\n",
    "if not(handle in list(Userlog.keys())):\n",
    "    \n",
    "    pk,sk=rsa.newkeys(4096)\n",
    "    Userlog[handle]=pk\n",
    "    with open('Userlog.json','w') as f :\n",
    "        json.dump(Userlog,f)\n",
    "\n",
    "    with open('sk.txt','w') as f :\n",
    "        f.write(sk)\n",
    "\n",
    "else:\n",
    "    while True:\n",
    "        print(\"Username already exist\")\n",
    "        handle=input(\"Enter the new username : \")\n",
    "        if handle in list(Userlog.keys()):\n",
    "            \n",
    "            pk,sk=rsa.newkeys(4096)\n",
    "            Userlog[handle]=pk\n",
    "            \n",
    "            with open('Userlog.json','w') as f :\n",
    "                json.dump(Userlog,f)\n",
    "            \n",
    "            with open('sk.txt','w') as f :\n",
    "                f.write(sk)\n",
    "        \n",
    "        else:\n",
    "            continue\n",
    "    "
   ]
  }
 ],
 "metadata": {
  "kernelspec": {
   "display_name": "Blockchain",
   "language": "python",
   "name": "blockchain"
  },
  "language_info": {
   "codemirror_mode": {
    "name": "ipython",
    "version": 3
   },
   "file_extension": ".py",
   "mimetype": "text/x-python",
   "name": "python",
   "nbconvert_exporter": "python",
   "pygments_lexer": "ipython3",
   "version": "3.12.11"
  }
 },
 "nbformat": 4,
 "nbformat_minor": 5
}
